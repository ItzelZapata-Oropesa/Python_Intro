{
 "cells": [
  {
   "cell_type": "markdown",
   "id": "e5a0a137-1d04-4bf4-8b44-483e78d321ef",
   "metadata": {},
   "source": [
    "1.  Try the code below and revise it to current time.  "
   ]
  },
  {
   "cell_type": "code",
   "execution_count": 2,
   "id": "5690f2e3-5d0e-4e44-a04d-fd429bbae4fa",
   "metadata": {},
   "outputs": [],
   "source": [
    "import sys\n",
    "from datetime import datetime\n",
    "from datetime import time\n",
    "from datetime import date"
   ]
  },
  {
   "cell_type": "code",
   "execution_count": 5,
   "id": "243bee43-cfd9-49fc-ad0a-e752f0007994",
   "metadata": {},
   "outputs": [],
   "source": [
    "def main():\n",
    "    dt = datetime.now()\n",
    "#utc = datetime.utcnow()\n",
    "    time_string = dt.strftime(\"%X\")\n",
    "    \"\"\"https://strftime.org\"\"\"\n",
    "    for line in sys.stdin:\n",
    "        data = line.strip().split(\"\\t\")\n",
    "        if len(data) == 6:\n",
    "            _date, _time, store, item, cost, payment = data\n",
    "            print (\"{dt}\\t{time_string}\\t{store}\\t{item}\\t{cost}\\t{payment}\")"
   ]
  },
  {
   "cell_type": "code",
   "execution_count": 6,
   "id": "9ded752d-2886-4b44-b93e-2ee855237735",
   "metadata": {},
   "outputs": [],
   "source": [
    "main()"
   ]
  },
  {
   "cell_type": "markdown",
   "id": "5736200d-ff1d-4fe2-af61-e9bbeaa337b9",
   "metadata": {},
   "source": [
    "2.  Add the timedelta to the datetime and subtract 60 second and added 2 year . (Hit: timedelta(seconds=60))  For each condition, state the code and output."
   ]
  },
  {
   "cell_type": "code",
   "execution_count": 7,
   "id": "69ee401d-ee49-42fd-9958-e1546947fb39",
   "metadata": {},
   "outputs": [],
   "source": [
    "from datetime import timedelta  "
   ]
  },
  {
   "cell_type": "markdown",
   "id": "432cc133-23d5-45fd-8613-b486f40f8960",
   "metadata": {},
   "source": [
    "- Add 1 day  "
   ]
  },
  {
   "cell_type": "code",
   "execution_count": 9,
   "id": "2b6cd08c-403a-418e-822c-331d11a3ad01",
   "metadata": {},
   "outputs": [
    {
     "name": "stdout",
     "output_type": "stream",
     "text": [
      "2022-06-28 05:08:11.135277\n"
     ]
    }
   ],
   "source": [
    "print(datetime.now() + timedelta(days=1))"
   ]
  },
  {
   "cell_type": "markdown",
   "id": "66bc9115-075f-451a-85f7-a85c668b141d",
   "metadata": {},
   "source": [
    "- Add 60 seconds"
   ]
  },
  {
   "cell_type": "code",
   "execution_count": 10,
   "id": "e643a32a-8ab2-4cc6-acd8-ff559a2f07a0",
   "metadata": {},
   "outputs": [
    {
     "name": "stdout",
     "output_type": "stream",
     "text": [
      "2022-06-27 05:08:17.884703\n"
     ]
    }
   ],
   "source": [
    "print(datetime.now() - timedelta(seconds=60))"
   ]
  },
  {
   "cell_type": "markdown",
   "id": "70664994-a2ea-4a0f-953d-8b12d51b740a",
   "metadata": {},
   "source": [
    "- Add two years\n",
    "- To solve this one we needed to figure out how many days are in a year and multiply that by two (365*2)"
   ]
  },
  {
   "cell_type": "code",
   "execution_count": 12,
   "id": "3a97a5c2-fa5d-4fb7-bb60-e6df9cee3fd9",
   "metadata": {},
   "outputs": [
    {
     "name": "stdout",
     "output_type": "stream",
     "text": [
      "2024-06-26 05:11:57.191922\n"
     ]
    }
   ],
   "source": [
    "print(datetime.now() + timedelta(days=730))"
   ]
  },
  {
   "cell_type": "markdown",
   "id": "935be1ec-aa76-4422-b054-f2db177fdf84",
   "metadata": {},
   "source": [
    "3. Create a timedelta object representing "
   ]
  },
  {
   "cell_type": "markdown",
   "id": "c3a406ba-2100-43a7-90cf-742ee31c864e",
   "metadata": {},
   "source": [
    "- Timedelta representing one object"
   ]
  },
  {
   "cell_type": "code",
   "execution_count": 14,
   "id": "06d8d195-786b-4fd4-9b0b-6e5a9b7e73cc",
   "metadata": {},
   "outputs": [
    {
     "name": "stdout",
     "output_type": "stream",
     "text": [
      "-1 86399 999999\n"
     ]
    }
   ],
   "source": [
    "d = timedelta(microseconds=-1)\n",
    "print (d.days, d.seconds, d.microseconds)"
   ]
  },
  {
   "cell_type": "markdown",
   "id": "e528dcbe-52e2-4046-ac0d-a93424f42b75",
   "metadata": {},
   "source": [
    "- Create a timedelta object representing 100 days, 10 hours, and 13 minutes. \n",
    "- We needed to figure out how many seconds are in 10 hours (3600 * 10)\n",
    "- We also need to figure out how many microseconds are in 13 minutes (13 * 60,000,000)"
   ]
  },
  {
   "cell_type": "code",
   "execution_count": 15,
   "id": "37a6a265-df85-4721-ac74-07527775fdb1",
   "metadata": {},
   "outputs": [
    {
     "name": "stdout",
     "output_type": "stream",
     "text": [
      "541767 7200 0\n"
     ]
    }
   ],
   "source": [
    "c = timedelta(days=100, seconds = 36000, minutes = 780000000)\n",
    "print (c.days, c.seconds, c.microseconds)"
   ]
  },
  {
   "cell_type": "markdown",
   "id": "4c92a8c9-1bbc-43dc-bf81-d0b81ce0af67",
   "metadata": {},
   "source": [
    "4. Write a function that takes two arguments (feet and inches) with this time object"
   ]
  },
  {
   "cell_type": "code",
   "execution_count": 16,
   "id": "fe1b5727-35ba-4aa1-b96a-00c4026f9c69",
   "metadata": {},
   "outputs": [
    {
     "name": "stdout",
     "output_type": "stream",
     "text": [
      "2022-06-27 05:24:23.779676\n",
      "Type :-  <class 'datetime.datetime'>\n"
     ]
    }
   ],
   "source": [
    "# get current date \n",
    "datetime_object = datetime.now() \n",
    "print(datetime_object) \n",
    "print('Type :- ',type(datetime_object)) "
   ]
  },
  {
   "cell_type": "code",
   "execution_count": 24,
   "id": "ab0112b5-24c1-474e-96e6-bdfef0c3c848",
   "metadata": {},
   "outputs": [],
   "source": [
    "def feetInchTime(f,i,D):\n",
    "    print(f,\",feet\")\n",
    "    print(i,\",inche(s)\")\n",
    "    print(\"Current Date:\", datetime_object)"
   ]
  },
  {
   "cell_type": "code",
   "execution_count": 25,
   "id": "de23f239-b732-42b5-9cfd-abaefed490a9",
   "metadata": {},
   "outputs": [
    {
     "name": "stdin",
     "output_type": "stream",
     "text": [
      "Please enter measurement in feet: 5\n",
      "Please enter measurement in inches: 3\n"
     ]
    }
   ],
   "source": [
    "f = input(\"Please enter measurement in feet:\")\n",
    "i = input(\"Please enter measurement in inches:\")\n",
    "D = datetime_object"
   ]
  },
  {
   "cell_type": "code",
   "execution_count": 26,
   "id": "26ecd24f-0598-42a1-9976-6e5bb7146e85",
   "metadata": {},
   "outputs": [
    {
     "name": "stdout",
     "output_type": "stream",
     "text": [
      "5 ,feet\n",
      "3 ,inche(s)\n",
      "Current Date: 2022-06-27 05:24:23.779676\n"
     ]
    }
   ],
   "source": [
    "feetInchTime(f,i,D)"
   ]
  }
 ],
 "metadata": {
  "kernelspec": {
   "display_name": "Python 3 (ipykernel)",
   "language": "python",
   "name": "python3"
  },
  "language_info": {
   "codemirror_mode": {
    "name": "ipython",
    "version": 3
   },
   "file_extension": ".py",
   "mimetype": "text/x-python",
   "name": "python",
   "nbconvert_exporter": "python",
   "pygments_lexer": "ipython3",
   "version": "3.10.4"
  }
 },
 "nbformat": 4,
 "nbformat_minor": 5
}
