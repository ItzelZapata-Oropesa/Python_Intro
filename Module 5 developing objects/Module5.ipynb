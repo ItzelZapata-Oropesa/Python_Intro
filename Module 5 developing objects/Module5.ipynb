{
 "cells": [
  {
   "cell_type": "markdown",
   "id": "d1b2f379-727f-44dc-b874-e42b844f9897",
   "metadata": {},
   "source": [
    "- Load Graphics library into enviornment."
   ]
  },
  {
   "cell_type": "code",
   "execution_count": 1,
   "id": "7448d36c-cba1-49a2-ba44-2441e7669ac2",
   "metadata": {},
   "outputs": [],
   "source": [
    "from graphics import *"
   ]
  },
  {
   "cell_type": "markdown",
   "id": "a94c1c1b-f2c1-4e5a-8ff8-2f5294088992",
   "metadata": {},
   "source": [
    "Class point creation \n",
    "- defining coordinates of a rectangle"
   ]
  },
  {
   "cell_type": "code",
   "execution_count": 41,
   "id": "f87ea77e-3da8-47b5-81b9-90d29c832082",
   "metadata": {},
   "outputs": [],
   "source": [
    "class Point:\n",
    "    def __init__(self, x, y):\n",
    "        self.x = x\n",
    "        self.y = y\n",
    "        \n",
    "    def __str__(self):\n",
    "        return \"({}, {})\".format(self.x, self.y)"
   ]
  },
  {
   "cell_type": "markdown",
   "id": "234a42f8-af20-412a-aee5-9fa24773f8ef",
   "metadata": {},
   "source": [
    "Class rectangle creation\n",
    "- Manufacture rectanglular objects\n",
    "- A class to manufacture rectangle objects\n",
    "- Initialize rectangle at posn, with width w, height h"
   ]
  },
  {
   "cell_type": "code",
   "execution_count": 42,
   "id": "c3ee1a72-1e20-41e8-a0c3-715e9a5e1ceb",
   "metadata": {},
   "outputs": [],
   "source": [
    "class Rectangle:\n",
    "    def __init__(self, posn, w, h):\n",
    "        self.corner = posn\n",
    "        self.width = w\n",
    "        self.height = h\n",
    "    def __str__(self):\n",
    "        return \"({0}, {1}, {2})\".format(self.corner, self.width, self.height)"
   ]
  },
  {
   "cell_type": "markdown",
   "id": "51a4aa5c-ccbc-41b9-b2e8-636f3f6c20e9",
   "metadata": {},
   "source": [
    "We can now test our rectangle object we have created."
   ]
  },
  {
   "cell_type": "markdown",
   "id": "5332bacf-4947-48b9-bc15-91f573b53763",
   "metadata": {},
   "source": [
    "Create a rectangle"
   ]
  },
  {
   "cell_type": "code",
   "execution_count": 43,
   "id": "fc40b5a9-925e-4b6f-8bcc-4c0323d37d4d",
   "metadata": {},
   "outputs": [],
   "source": [
    "def create_rectangle(x, y, width, height):\n",
    "    return Rectangle(Point(x, y), width, height)"
   ]
  },
  {
   "cell_type": "markdown",
   "id": "5bb92253-7079-4fc2-a3b5-95bff086dbf3",
   "metadata": {},
   "source": [
    "Return Rectangle as a string"
   ]
  },
  {
   "cell_type": "code",
   "execution_count": 44,
   "id": "dd6cab2b-4fc6-4af9-aae7-75f21bc0aff9",
   "metadata": {},
   "outputs": [],
   "source": [
    "def str_rectangle(self):\n",
    "    return str(self)"
   ]
  },
  {
   "cell_type": "markdown",
   "id": "100d76c1-acc5-4e2c-af05-8716511cbb9e",
   "metadata": {},
   "source": [
    "Shift Rectangle"
   ]
  },
  {
   "cell_type": "code",
   "execution_count": 45,
   "id": "6aa085a8-f97f-485c-a4bb-dab5034fc91e",
   "metadata": {},
   "outputs": [],
   "source": [
    "def shift_rectangle(self, dx, dy):\n",
    "    ix = self.corner.x\n",
    "    iy = self.corner.y\n",
    "    self.corner.x += dx\n",
    "    self.corner.y += dy"
   ]
  },
  {
   "cell_type": "markdown",
   "id": "114ce90e-a6b8-4bfb-a2e1-f81f2881a8a5",
   "metadata": {},
   "source": [
    "Offset Rectangle"
   ]
  },
  {
   "cell_type": "code",
   "execution_count": 46,
   "id": "fb941ed6-9607-4c67-8514-b1f9764b064a",
   "metadata": {},
   "outputs": [],
   "source": [
    "def offset_rectangle(self, dx, dy):\n",
    "    iy, ix = self.corner.x, self.corner.y\n",
    "    return Rectangle (Point(ix + dx, iy + dy), self.width, self.height)"
   ]
  },
  {
   "cell_type": "markdown",
   "id": "03a456c0-a55f-4a57-8854-0e05c9a5bccb",
   "metadata": {},
   "source": [
    "Using the function and looking at Results"
   ]
  },
  {
   "cell_type": "code",
   "execution_count": 48,
   "id": "908ba45f-c78c-4adb-b97c-6582b895a4f4",
   "metadata": {},
   "outputs": [
    {
     "name": "stdout",
     "output_type": "stream",
     "text": [
      "String Rectangle\n",
      "((10, 20), 30, 40)\n",
      "Shifted Rectangle\n",
      "((0, 0), 30, 40)\n",
      "Offset Rectangle\n",
      "((0, 0), 30, 40)\n",
      "((100, 100), 30, 40)\n"
     ]
    }
   ],
   "source": [
    "r1 = create_rectangle(10,20,30,40)\n",
    "print(\"String Rectangle\")\n",
    "print(str_rectangle(r1))\n",
    "\n",
    "shift_rectangle(r1, -10, -20)\n",
    "print(\"Shifted Rectangle\")\n",
    "print(str_rectangle(r1))\n",
    "\n",
    "r2 = offset_rectangle(r1, 100, 100)\n",
    "print(\"Offset Rectangle\")\n",
    "print(str_rectangle(r1))\n",
    "# should be same as previous\n",
    "print(str_rectangle(r2))"
   ]
  }
 ],
 "metadata": {
  "kernelspec": {
   "display_name": "Python 3 (ipykernel)",
   "language": "python",
   "name": "python3"
  },
  "language_info": {
   "codemirror_mode": {
    "name": "ipython",
    "version": 3
   },
   "file_extension": ".py",
   "mimetype": "text/x-python",
   "name": "python",
   "nbconvert_exporter": "python",
   "pygments_lexer": "ipython3",
   "version": "3.10.4"
  }
 },
 "nbformat": 4,
 "nbformat_minor": 5
}
